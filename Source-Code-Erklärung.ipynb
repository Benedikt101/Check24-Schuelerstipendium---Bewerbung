{
 "cells": [
  {
   "cell_type": "markdown",
   "metadata": {},
   "source": [
    "<h1> Source-Code Simple Chess AI with Minimax </h1>"
   ]
  },
  {
   "cell_type": "markdown",
   "metadata": {},
   "source": [
    "Meine Schach KI ist ist in 2 Python Dateien aufgeteilt: \n",
    "ChessMain.py\n",
    "ChessEngine.py\n",
    "Während ChessMain das GUI händelt, passiert alles wichtige in ChessEngine.py\n",
    "\n",
    "Ich werde nun den Code ausführlich erklären:\n"
   ]
  },
  {
   "cell_type": "markdown",
   "metadata": {},
   "source": [
    "<h2> Allgemeine Infos: </h2>"
   ]
  },
  {
   "cell_type": "markdown",
   "metadata": {},
   "source": [
    "Mein Schachbrett wird in einer 2-Dimensionalen Liste gespeichert:"
   ]
  },
  {
   "cell_type": "code",
   "execution_count": null,
   "metadata": {},
   "outputs": [],
   "source": [
    "           [[\"bR\", \"bN\", \"bB\", \"bQ\", \"bK\", \"bB\", \"bN\", \"bR\"],\n",
    "            [\"bP\", \"bP\", \"bP\", \"bP\", \"bP\", \"bP\", \"bP\", \"bP\"],\n",
    "            [\"--\", \"--\", \"--\", \"--\", \"--\", \"--\", \"--\", \"--\"],\n",
    "            [\"--\", \"--\", \"--\", \"--\", \"--\", \"--\", \"--\", \"--\"],\n",
    "            [\"--\", \"--\", \"--\", \"--\", \"--\", \"--\", \"--\", \"--\"],\n",
    "            [\"--\", \"--\", \"--\", \"--\", \"--\", \"--\", \"--\", \"--\"],\n",
    "            [\"wP\", \"wP\", \"wP\", \"wP\", \"wP\", \"wP\", \"wP\", \"wP\"],\n",
    "            [\"wR\", \"wN\", \"wB\", \"wQ\", \"wK\", \"wB\", \"wN\", \"wR\"]]"
   ]
  },
  {
   "cell_type": "markdown",
   "metadata": {},
   "source": [
    "die Figuren werden folgenderweise benannt:\n",
    "\n",
    "1. Farbe in Kleinbuchstaben (w = white, b = black)\n",
    "\n",
    "2. Figurenart in Großbuchstaben\n",
    "\n",
    "Es gibt folgende Figuren:\n",
    "\n",
    "R = Rook (Turm)\n",
    "\n",
    "N = Knight (Springer)\n",
    "\n",
    "B = Bishop (Läufer)\n",
    "\n",
    "Q = Queen (Dame)\n",
    "\n",
    "K = King (König)\n",
    "\n",
    "P = Pawn (Bauer)"
   ]
  },
  {
   "cell_type": "markdown",
   "metadata": {},
   "source": [
    "Um es nicht zu sehr zu verkomplizieren habe ich auf seltene Sonderregeln verzichtet.\n",
    "\n",
    "So sind:\n",
    "\n",
    "en passant\n",
    "\n",
    "3-fache Zug Wiederholung\n",
    "\n",
    "und die 50-, bzw 75- Zug Regel\n",
    "\n",
    "<strong> nicht</strong> in meiner Engine vorhanden\n",
    "\n",
    "Außerdem gibt es nur eine vereinfachte Form der PawnPromotion. D.h. ein Bauer wird immer in eine Dame umgewandelt.\n"
   ]
  },
  {
   "cell_type": "markdown",
   "metadata": {},
   "source": [
    "<h2> ChessMain.py </h2>"
   ]
  },
  {
   "cell_type": "markdown",
   "metadata": {},
   "source": [
    "Mir ist natürlich bewusst, dass das kein so gutes Bild auf mich wirft, aber ich möchte meine Leistungen ehrlich darlegen:\n",
    "Da ich mich mit PyGame nicht auskenne und auch nicht daran interresiert war, es zu lernen, habe ich die ChessMain.py Datei quasi 1:1 aus einem Tutorial im Internet übernommen.\n",
    "Mein Hauptaugenmerk lag auf dem MiniMax-Algorithmus mit Alpha-Beta Pruding weshalb, ich für die graphische Oberfläche diesen einfachen Weg gewählt habe, um schneller voran zu kommen.\n",
    "\n",
    "Das Tutorial ist hier zu finden:\n",
    "https://www.youtube.com/watch?v=EnYui0e73Rs\n"
   ]
  },
  {
   "cell_type": "markdown",
   "metadata": {},
   "source": [
    "<h2> ChessEngine.py</h2>"
   ]
  },
  {
   "cell_type": "code",
   "execution_count": null,
   "metadata": {},
   "outputs": [],
   "source": [
    "import copy"
   ]
  },
  {
   "cell_type": "markdown",
   "metadata": {},
   "source": [
    "Ich brauche copy um eine deepcopy von meinem Schachbrett zu machen, deshalb importiere ich das Python Modul copy"
   ]
  },
  {
   "cell_type": "code",
   "execution_count": null,
   "metadata": {},
   "outputs": [],
   "source": [
    "class ValidMoves():\n",
    "    \n",
    "    def __init__(self):\n",
    "        self.validMoves = []\n",
    "\n",
    "    def getValidMoves(self, board, wtm, movelog):\n",
    "        color = \"b\"\n",
    "        if wtm:\n",
    "            color = \"w\"\n",
    "        for r in range(8):\n",
    "            for c in range(8):\n",
    "                self.piece = board[r][c]\n",
    "                if self.piece != \"--\" and self.piece[0] == color:\n",
    "                    eval(f\"self.valid{self.piece[-1]}Moves({r}, {c}, '{self.piece[0]}', board)\")\n",
    "        self.checkCastling(board, movelog)\n",
    "        return self.validMoves"
   ]
  },
  {
   "cell_type": "markdown",
   "metadata": {},
   "source": [
    "Meine erste Klasse ist die ValidMoves-Klasse. Sie ist dafür zuständig alle legalen Züge zu generieren und auszugeben.\n",
    "\n",
    "Die getValidMoves-Funktion nimmt ein Schachbrett, den aktuellen Spieler, der am Zug ist (wtm = white to move) und den bisherigen movelog als Input und gibt alle legalen Züge wieder aus.\n",
    "\n",
    "Dafür geht sie durch jedes der 64 Felder, überprüft, ob auf diesen eine Figur steht und ruft dann die entsprechende Funktion für diesen Figurentyp auf. (durch die Evaluation des f-Strings)\n",
    "\n",
    "Anschließend wird noch überprüft, ob eine Rochade durchgeführt werden kann\n",
    "     "
   ]
  },
  {
   "cell_type": "code",
   "execution_count": null,
   "metadata": {},
   "outputs": [],
   "source": [
    "def validPMoves(self, r, c, color, board):\n",
    "        canMove2Sq = False\n",
    "        if color == \"w\" and r == 6 or color == \"b\" and r == 1:\n",
    "            canMove2Sq = True\n",
    "        move1, move2, move3 = -1, -2, -1\n",
    "        if color == \"b\":\n",
    "            move1, move2, move3 = 1, 2, 1\n",
    "        move4, move5 = 1, -1\n",
    "        if c == 7:\n",
    "            move4 = 0\n",
    "        elif c == 0:\n",
    "            move5 = 0\n",
    "        if board[r+move1][c] == \"--\":\n",
    "            self.validMoves.append(f\"{r}{c}{r+move1}{c}\")\n",
    "            #1-Feld nach Vorne\n",
    "        if -1 < r+move2 < 8:\n",
    "            if board[r+move2][c] == \"--\" and canMove2Sq and  board[r+move3][c] == \"--\":\n",
    "                self.validMoves.append(f\"{r}{c}{r+move2}{c}\")\n",
    "                #2-Felder nach Vorne\n",
    "        if board[r+move1][c+move4] != \"--\"  and board[r+move1][c+move4][0] != color:\n",
    "            self.validMoves.append(f\"{r}{c}{r+move1}{c+move4}\")\n",
    "            #Schlagen-rechts\n",
    "        if board[r+move1][c+move5] != \"--\" and board[r+move1][c+move5][0] != color:\n",
    "            self.validMoves.append(f\"{r}{c}{r+move1}{c+move5}\")\n",
    "            #Schlagen-links"
   ]
  },
  {
   "cell_type": "markdown",
   "metadata": {},
   "source": [
    "Als erstes kommt die validPMoves-Funktion. Diese generiert alle möglichen Züge eines Bauern, dessen Koordinaten (r,c) ihr mitgegeben wurden. \n",
    "\n",
    "Die Bauernzüge waren von allen Figuren die Schwierigsten, da er am meisten Spezialzüge ausführen kann und unterschiedliche Muster benutzt (gerade gehen, aber schräg schlagen)\n",
    "\n",
    "Am Anfang wird überprüft, ob er 2 Züge gehen darf (sich auf seiner Grundlinie befindet).\n",
    "\n",
    "Danach werden die Zugkoordinaten für Weiß, bzw. Schwarz definiert.\n",
    "\n",
    "Um einen Index-Fehler auszuschließen, wird move4, bzw. move5 gleich 0 gesetzt, wenn sich der Bauer auf der A oder H Linie befindet.\n",
    "\n",
    "Nun werden mit 4 If-Statements die 4 Verschiedenen Zugmöglichkeiten generiert.\n"
   ]
  },
  {
   "cell_type": "code",
   "execution_count": null,
   "metadata": {},
   "outputs": [],
   "source": [
    " def validRMoves(self, r, c, color, board):\n",
    "        var = [(1,1,0,0,8),(-1,-1,0,0,-1),(0,0,-1,-1,-1),(0,0,1,1,8)]\n",
    "        for i in range(4):\n",
    "            counter, increment, counter2, increment2, limit = var[i]\n",
    "            while True:\n",
    "                if c + counter != limit and r + counter2 != limit:\n",
    "                    if board[r+counter2][c+counter] == \"--\":\n",
    "                        self.validMoves.append(f\"{r}{c}{r+counter2}{c+counter}\")\n",
    "                        counter += increment\n",
    "                        counter2 += increment2\n",
    "                    elif board[r+counter2][c+counter][0] != color:\n",
    "                        self.validMoves.append(f\"{r}{c}{r+counter2}{c+counter}\")\n",
    "                        break\n",
    "                    else:\n",
    "                        break\n",
    "                else:\n",
    "                    break"
   ]
  },
  {
   "cell_type": "markdown",
   "metadata": {},
   "source": [
    "Als nächstes ist die ValidRMoves-Funktion. Sie generiert alle legalen Turm-Züge\n",
    "\n",
    "zuerst werden die verschieden Koordinatenänderungen für die 4 Verschieden richtungen definiert, um die anschließende while Schleife so einfach wie möglich zu halten.\n",
    "\n",
    "Nun gehen wir 4-Mal durch diese while schleife, jedes mal in eine andere Richtung und überprüfen, ob sich ein freies Feld in dieser Richtung befindet, auf welches der Turm ziehen kann"
   ]
  },
  {
   "cell_type": "code",
   "execution_count": null,
   "metadata": {},
   "outputs": [],
   "source": [
    "def validNMoves(self, r, c, color, board):\n",
    "        coords = [(2,1),(-2,1),(1,2),(-1,2)]\n",
    "        for i in range(4):\n",
    "            increment1, increment2 = coords[i]\n",
    "            if r + increment1 < 8 and r + increment1 > -1:\n",
    "                if c + increment2 < 8:\n",
    "                    if board[r+increment1][c+increment2] == \"--\":\n",
    "                        self.validMoves.append(f\"{r}{c}{r+increment1}{c+increment2}\")\n",
    "                    elif board[r+increment1][c+increment2][0] != color:\n",
    "                        self.validMoves.append(f\"{r}{c}{r+increment1}{c+increment2}\")\n",
    "                if c - increment2 > -1:\n",
    "                    if board[r+increment1][c-increment2] == \"--\":\n",
    "                        self.validMoves.append(f\"{r}{c}{r+increment1}{c-increment2}\")\n",
    "                    elif board[r+increment1][c-increment2][0] != color:\n",
    "                        self.validMoves.append(f\"{r}{c}{r+increment1}{c-increment2}\")"
   ]
  },
  {
   "cell_type": "markdown",
   "metadata": {},
   "source": [
    "Die ValidNMoves-Funktion generiert alle legalen Springer Züge.\n",
    "\n",
    "Als erstes wird wieder das Inkrement festgelegt (4- für 4 Richtungen. Weil ein Springer sich 3 Felder gerade und dann eines zu Seite bewegt)\n",
    "\n",
    "Nun wird wieder für jede der 4 Richtungen gecheckt, ob die 2 Züge pro Richtung legal sind."
   ]
  },
  {
   "cell_type": "code",
   "execution_count": null,
   "metadata": {},
   "outputs": [],
   "source": [
    "def validBMoves(self, r, c, color, board):\n",
    "        var = [(1,1,1,1), (-1,-1,1,1), (-1,-1,-1,-1),(1,1,-1,-1)]\n",
    "        for i in range(4):\n",
    "            counter, increment, counter2, increment2 = var[i]\n",
    "            while True:\n",
    "                if c + counter > -1 and c+ counter < 8 and r + counter2 > -1 and r + counter2 < 8:\n",
    "                    if board[r+counter2][c+counter] == \"--\":\n",
    "                        self.validMoves.append(f\"{r}{c}{r+counter2}{c+counter}\")\n",
    "                        counter += increment\n",
    "                        counter2 += increment2\n",
    "                    elif board[r+counter2][c+counter][0] != color:\n",
    "                        self.validMoves.append(f\"{r}{c}{r+counter2}{c+counter}\")\n",
    "                        break\n",
    "                    else:\n",
    "                        break\n",
    "                else:\n",
    "                    break"
   ]
  },
  {
   "cell_type": "markdown",
   "metadata": {},
   "source": [
    "Die ValidBMoves-Funktion generiert alle legalen Läufer Züge.\n",
    "\n",
    "Sie funktioniert ähnlich wie die ValidRMoves-Funktion."
   ]
  },
  {
   "cell_type": "code",
   "execution_count": null,
   "metadata": {},
   "outputs": [],
   "source": [
    "def validQMoves(self, r, c, color, board):\n",
    "        self.validRMoves(r,c,color, board)\n",
    "        self.validBMoves(r,c,color, board)"
   ]
  },
  {
   "cell_type": "markdown",
   "metadata": {},
   "source": [
    "Die validQMoves-Funktion generiert alle legalen Damen Züge\n",
    "\n",
    "sie ist recht simpel, weil sie sich wie ein Turm und Läufer bewegen kann, können wir einfach diese beiden Funktionen aufrufen, um alle legalen Damen-Züge herauszufinden"
   ]
  },
  {
   "cell_type": "code",
   "execution_count": null,
   "metadata": {},
   "outputs": [],
   "source": [
    "def validKMoves(self, r, c, color, board):\n",
    "        coords = [(1,1),(1,0),(1,-1),(0,1),(0,-1),(-1,1),(-1,0),(-1,-1)]\n",
    "        for i in range(8):\n",
    "            coord1, coord2 = coords[i]\n",
    "            if r + coord1 > -1 and r+coord1 < 8 and c + coord2 > -1 and c + coord2 < 8:\n",
    "                if board[r+coord1][c+coord2] == \"--\":\n",
    "                    self.validMoves.append(f\"{r}{c}{r+coord1}{c+coord2}\")\n",
    "                elif board[r+coord1][c+coord2][0] != color:\n",
    "                    self.validMoves.append(f\"{r}{c}{r+coord1}{c+coord2}\")\n"
   ]
  },
  {
   "cell_type": "markdown",
   "metadata": {},
   "source": [
    "Die validKMoves-Funktion generiert alle legalen König Züge\n",
    "\n",
    "Wieder ein sehr ähnliches Prinzip zu den restlichen Funktionen. 8 verschiedene Richtungskoordinaten und eine for-Schleife die 8 mal, jeweils 1 mal pro Richtungskoordinate, ausgeführt wird."
   ]
  },
  {
   "cell_type": "code",
   "execution_count": null,
   "metadata": {},
   "outputs": [],
   "source": [
    "def checkCastling(self, board, movelog):\n",
    "        kingpositionwhite, kingpositionblack = None, None\n",
    "        for j in range(8):\n",
    "            for i in board[j]:\n",
    "                if i[1] == \"K\":\n",
    "                    if i[0] == \"w\":\n",
    "                        kingpositionwhite = (j, board[j].index(\"wK\"))\n",
    "                    else:\n",
    "                        kingpositionblack = (j, board[j].index(\"bK\"))\n",
    "        movelog2 = []\n",
    "        for i in movelog:\n",
    "            movelog2.append(i[:2])\n",
    "        if kingpositionwhite == (7, 4) and not \"74\" in movelog2:\n",
    "            if board[7][0] == \"wR\" and not \"70\" in movelog2 and board[7][1] == \"--\" and board[7][2] == \"--\" and board[7][3] == \"--\":\n",
    "                self.validMoves.append(\"w-O-O-O\")\n",
    "            if board[7][7] == \"wR\" and not \"77\" in movelog2 and board[7][6] == \"--\" and board[7][5] == \"--\":\n",
    "                self.validMoves.append(\"w-O-O\")\n",
    "        if kingpositionblack == (0, 4) and not \"04\" in movelog2:\n",
    "            if board[0][0] == \"bR\" and not \"00\" in movelog2 and board[0][1] == \"--\" and board[0][2] == \"--\" and board[0][3] == \"--\":\n",
    "                self.validMoves.append(\"b-O-O-O\")\n",
    "            if board[0][7] == \"wR\" and not \"07\" in movelog2 and board[0][6] == \"--\" and board[0][5] == \"--\":\n",
    "                self.validMoves.append(\"b-O-O\")"
   ]
  },
  {
   "cell_type": "markdown",
   "metadata": {},
   "source": [
    "Die letzte Funktion der ValidMoves-Klasse ist die checkCastling-Funktion\n",
    "\n",
    "Diese ist wieder ein wenig umständlicher, da die Rochade ein recht ungewöhnlicher (nicht selten) Zug im Schach ist (verglichen mit den meisten anderen).\n",
    "\n",
    "Wir suchen erst die Position des Königs.\n",
    "\n",
    "Anschließend entfernen wir von dem Movelog alle Zielpositionen, um zu überprüfen, ob der Turm oder König schon einmal gezogen worden ist.\n",
    "\n",
    "Danach wird mit 4 If-Statements alle möglichen Rochaden überprüft"
   ]
  },
  {
   "cell_type": "code",
   "execution_count": null,
   "metadata": {},
   "outputs": [],
   "source": [
    "class CheckSpecialPositions():\n",
    "    def getPiecePosition(self, board, piece):\n",
    "        for i, x in enumerate(board):\n",
    "            if piece in x:\n",
    "                return f\"{i}{x.index(piece)}\""
   ]
  },
  {
   "cell_type": "markdown",
   "metadata": {},
   "source": [
    "Die Nächste Klasse ist die CheckSpecialPositions-klasse.\n",
    "In dieser wird überprüft, ob eine aktuelle Stellung Schach, Schachmatt oder Patt ist.\n",
    "\n",
    "die getPiecePosition-Funktion gibt, wie der Name es schon sagt, die Position einer Figur zurück"
   ]
  },
  {
   "cell_type": "code",
   "execution_count": null,
   "metadata": {},
   "outputs": [],
   "source": [
    "def checkCheck(self, board, wtm, movelog):\n",
    "        color = \"b\"\n",
    "        if wtm:\n",
    "            color = \"w\"\n",
    "        wtm = not wtm\n",
    "        vMnM = ValidMoves.getValidMoves(ValidMoves(), board, wtm, movelog) #getValidMoves von der anderen Farbe\n",
    "        kingposition = self.getPiecePosition(board, f\"{color}K\")\n",
    "        vMnM2 = []\n",
    "        for i in vMnM:\n",
    "            vMnM2.append(i[2:])\n",
    "        if kingposition in vMnM2:\n",
    "            return True\n",
    "        else:\n",
    "            return False"
   ]
  },
  {
   "cell_type": "markdown",
   "metadata": {},
   "source": [
    "Die checkCheck-Funktion überprüft, ob wir in der aktuellen Stellung in einem Schach stehen\n",
    "\n",
    "Dafür generieren wir die legalen Züge des gegners und überprüfen, ob dieser unseren König schlagen kann, bzw. ob die Zielkoordinaten irgendeines legalen Zuges des Gegners die Koordinaten von unserem König besitzt."
   ]
  },
  {
   "cell_type": "code",
   "execution_count": null,
   "metadata": {},
   "outputs": [],
   "source": [
    "def checkStalemate(self, board, wtm, movelog):\n",
    "        if ValidMoves.getValidMoves(ValidMoves(), board, wtm, movelog) == []:\n",
    "            return True"
   ]
  },
  {
   "cell_type": "markdown",
   "metadata": {},
   "source": [
    "Die checkStalemate-Funktion überprüft, ob die aktuelle Stellung ein Patt ist.\n",
    "\n",
    "Das ist recht einfach, denn sobald es keine legalen Züge mehr gibt, handelt es sich um ein Patt."
   ]
  },
  {
   "cell_type": "code",
   "execution_count": null,
   "metadata": {},
   "outputs": [],
   "source": [
    "def checkMate(self, board, wtm, movelog):\n",
    "        vMnM = ValidMoves.getValidMoves(ValidMoves(), board, wtm, movelog)\n",
    "        movestoremove = []\n",
    "        for i in vMnM:\n",
    "            self.copyboard = copy.deepcopy(board)\n",
    "            Move.makeMove(Move(i), self.copyboard, wtm, i)\n",
    "            if self.checkCheck(self.copyboard, wtm, movelog):\n",
    "                movestoremove.append(i)\n",
    "        for i in movestoremove:\n",
    "            if i in vMnM:\n",
    "                vMnM.remove(i)\n",
    "        if vMnM == []:\n",
    "            return True\n",
    "        else:\n",
    "            return vMnM"
   ]
  },
  {
   "cell_type": "markdown",
   "metadata": {},
   "source": [
    "Die checkStalemate-Funktion überprüft, ob die aktuelle Stellung Schachmatt ist.\n",
    "\n",
    "dafür generieren wir alle möglichen legalen Züge, und führen jeden von diesen aus. Wenn man, trotz des Zuges immer noch im Schach steht, wird dieser Zug einer Liste von Zügen, die von den Legalen Zügen entfernt wird, hinzugefügt.\n",
    "\n",
    "Anschließend wird überprüft, ob es überhaupt einen legalen Zug gibt, wenn nicht handelt es sich um Matt."
   ]
  },
  {
   "cell_type": "code",
   "execution_count": null,
   "metadata": {},
   "outputs": [],
   "source": [
    "class GameState():\n",
    "    def __init__(self):\n",
    "        self.board = [\n",
    "            [\"bR\", \"bN\", \"bB\", \"bQ\", \"bK\", \"bB\", \"bN\", \"bR\"],\n",
    "            [\"bP\", \"bP\", \"bP\", \"bP\", \"bP\", \"bP\", \"bP\", \"bP\"],\n",
    "            [\"--\", \"--\", \"--\", \"--\", \"--\", \"--\", \"--\", \"--\"],\n",
    "            [\"--\", \"--\", \"--\", \"--\", \"--\", \"--\", \"--\", \"--\"],\n",
    "            [\"--\", \"--\", \"--\", \"--\", \"--\", \"--\", \"--\", \"--\"],\n",
    "            [\"--\", \"--\", \"--\", \"--\", \"--\", \"--\", \"--\", \"--\"],\n",
    "            [\"wP\", \"wP\", \"wP\", \"wP\", \"wP\", \"wP\", \"wP\", \"wP\"],\n",
    "            [\"wR\", \"wN\", \"wB\", \"wQ\", \"wK\", \"wB\", \"wN\", \"wR\"]]\n",
    "        self.whiteToMove = True\n",
    "        self.movelog = []\n",
    "        self.validmoves = ValidMoves.getValidMoves(ValidMoves(), self.board, self.whiteToMove, self.movelog)\n",
    "        self.gamefinished = False"
   ]
  },
  {
   "cell_type": "markdown",
   "metadata": {},
   "source": [
    "Die nächste Klasse ist die Mainklasse GameState. Sie ist auch die Klasse, auf die von der ChessMain.py Datei aus ausgeführt wird, und führt alle anderen Klassen in der eigenen Datei aus.\n",
    "\n",
    "Sie speichert die aktuelle Stellung in self.board, speichert den Spieler der am Zug ist, den Movelog, und die legalen Züge."
   ]
  },
  {
   "cell_type": "code",
   "execution_count": null,
   "metadata": {},
   "outputs": [],
   "source": [
    "def checkPawnPromotion(self):\n",
    "        if \"wP\" in self.board[0]:\n",
    "            self.board[0][self.board[0].index(\"wP\")] = \"wQ\"\n",
    "        if \"bP\" in self.board[7]:\n",
    "            self.board[7][self.board[7].index(\"bP\")] = \"bQ\""
   ]
  },
  {
   "cell_type": "markdown",
   "metadata": {},
   "source": [
    "Die checkPawnPromotion-Funktion tut genau das, wonach sie benannt wurde. Sie überprüft, ob ein Bauer die Grundlinie des Gegners erreicht hat und sich so in eine Dame verwandelt hat.\n",
    "Sie führt diese Bauernumwandlungen auch durch, wenn sie eine erkennt."
   ]
  },
  {
   "cell_type": "code",
   "execution_count": null,
   "metadata": {},
   "outputs": [],
   "source": [
    "def makeMove(self, move):\n",
    "        vm = ValidMoves()\n",
    "        if not isinstance(move, str):\n",
    "            move = move.move\n",
    "        if move in self.validmoves:\n",
    "            Move.makeMove(Move(move), self.board, self.whiteToMove, move)\n",
    "            self.checkPawnPromotion()\n",
    "            self.movelog.append(move)\n",
    "            self.whiteToMove = not self.whiteToMove\n",
    "            if CheckSpecialPositions.checkCheck(CheckSpecialPositions(), self.board, self.whiteToMove, self.movelog):\n",
    "                mate = CheckSpecialPositions.checkMate(CheckSpecialPositions(), self.board, self.whiteToMove, self.movelog)\n",
    "                if mate == True:\n",
    "                    self.validmoves = []\n",
    "                    print(\"CHECKMATE\")\n",
    "                    self.gamefinished = True\n",
    "                else:\n",
    "                    self.validmoves = mate\n",
    "                    print(\"CHECK\")\n",
    "            elif CheckSpecialPositions.checkStalemate(CheckSpecialPositions(), self.board, self.whiteToMove, self.movelog):\n",
    "                print(\"stalemate\")\n",
    "                self.gamefinished = True\n",
    "            else:\n",
    "                self.validmoves = ValidMoves.getValidMoves(vm, self.board, self.whiteToMove, self.movelog)\n",
    "                if CheckSpecialPositions.checkCheck(CheckSpecialPositions(), self.board, self.whiteToMove, self.movelog):\n",
    "                    if not CheckSpecialPositions.checkMate(CheckSpecialPositions(), self.board, self.whiteToMove, self.movelog):\n",
    "                        self.validMoves = CheckSpecialPositions.checkMate(CheckSpecialPositions(), self.board, self.whiteToMove, self.movelog)\n",
    "                    else:\n",
    "                        self.validMoves = []\n",
    "            self.aiMove()"
   ]
  },
  {
   "cell_type": "markdown",
   "metadata": {},
   "source": [
    "die makeMove-Funktion ist einer der längsten Funktionen in meinem Projekt. Sie führt die vom Menschen, über das GUI getättigten, Züge durch.\n",
    "\n",
    "Zuerst überprüft Sie, ob sie einen Zug, aus der Move-Klasse erhalten hat, oder einen Zug direkt als String. Sollte es sich um einen Zug aus der Move-Klasse handeln, holen wir uns den Move-String aus der Klasse.\n",
    "\n",
    "Dann überprüfen wir, ob es sich um einen legalen Zug handelt. Wenn dem so ist wird der Zug ausgeführt (in der Move klasse),\n",
    "die Bauernumwandlung überprüft und der Movelog erweitert.\n",
    "Außerdem wird der Spieler gewechselt.\n",
    "Danach wird auf Schach, Matt oder Patt überprüft und anschließend die neuen legalen Züge generiert.\n",
    "\n",
    "anschließend wird der AIMove ausgeführt"
   ]
  },
  {
   "cell_type": "code",
   "execution_count": null,
   "metadata": {},
   "outputs": [],
   "source": [
    "def aiMove(self):\n",
    "        vm = ValidMoves()\n",
    "        if not self.whiteToMove and self.gamefinished == False:\n",
    "            mn = MiniMax(self.board, self.whiteToMove, self.movelog)\n",
    "            move = mn.minimax(0, True, -150, 150)[0]\n",
    "            Move.makeMove(Move(move), self.board, self.whiteToMove, move)\n",
    "            self.checkPawnPromotion()\n",
    "            self.movelog.append(move)\n",
    "            self.whiteToMove = not self.whiteToMove\n",
    "            if CheckSpecialPositions.checkCheck(CheckSpecialPositions(), self.board, self.whiteToMove, self.movelog):\n",
    "                mate = CheckSpecialPositions.checkMate(CheckSpecialPositions(), self.board, self.whiteToMove, self.movelog)\n",
    "                if mate == True:\n",
    "                    self.validmoves = []\n",
    "                    print(\"CHECKMATE\")\n",
    "                    self.gamefinished = True\n",
    "                else:\n",
    "                    self.validmoves = mate\n",
    "                    print(\"CHECK\")\n",
    "            else:\n",
    "                self.validmoves = ValidMoves.getValidMoves(vm, self.board, self.whiteToMove, self.movelog)\n",
    "                if CheckSpecialPositions.checkCheck(CheckSpecialPositions(), self.board, self.whiteToMove, self.movelog):\n",
    "                    if not CheckSpecialPositions.checkMate(CheckSpecialPositions(), self.board, self.whiteToMove, self.movelog):\n",
    "                        self.validMoves = CheckSpecialPositions.checkMate(CheckSpecialPositions(), self.board, self.whiteToMove, self.movelog)\n",
    "                    else:\n",
    "                        self.validMoves = []"
   ]
  },
  {
   "cell_type": "markdown",
   "metadata": {},
   "source": [
    "Der AIMove funktioniert eigentlich genau gleich, wie der menschliche Zug, ruft aber die Minimax-Funktion auf, um seinen Zug zu erhalten, anstatt ihn gegeben zu bekommen"
   ]
  },
  {
   "cell_type": "code",
   "execution_count": null,
   "metadata": {},
   "outputs": [],
   "source": [
    "class Move():\n",
    "    ranksToRows = {\"1\": 7, \"2\": 6, \"3\": 5, \"4\": 4, \"5\": 3, \"6\": 2, \"7\": 1, \"8\": 0}\n",
    "    rowsToRanks = {v: k for k, v in ranksToRows.items()}\n",
    "    filesToCols = {\"a\": 0, \"b\": 1, \"c\": 2, \"d\": 3, \"e\": 4, \"f\": 5, \"g\": 6, \"h\": 7}\n",
    "    colsToFiles = {v: k for k, v in filesToCols.items()}\n",
    "    def __init__(self, move):\n",
    "        self.move = move"
   ]
  },
  {
   "cell_type": "markdown",
   "metadata": {},
   "source": [
    "Die nächste Klasse ist die Move-Klasse. In dieser werden die Züge umgewandelt, außerdem gibt es eine Funktion um die ChessNotation der Züge zu erhalten"
   ]
  },
  {
   "cell_type": "code",
   "execution_count": null,
   "metadata": {},
   "outputs": [],
   "source": [
    "def getChessNotation(self):\n",
    "        return self.getRankFile(int(self.move[0]), int(self.move[1])) + self.getRankFile(int(self.move[2]), int(self.move[3]))\n",
    "\n",
    "def getRankFile(self, r, c):\n",
    "        return self.colsToFiles[c] + self.rowsToRanks[r]"
   ]
  },
  {
   "cell_type": "markdown",
   "metadata": {},
   "source": [
    "Die se beiden Funktionen sind für die Chess Notation zuständig"
   ]
  },
  {
   "cell_type": "code",
   "execution_count": null,
   "metadata": {},
   "outputs": [],
   "source": [
    "def makeMove(self, board, wtm, move):\n",
    "        coordsks = (6,5,4,7)\n",
    "        coordsqs = (2,3,4,0)\n",
    "        if self.move[2:] == \"O-O\" or self.move[2:] == \"O-O-O\":\n",
    "            if wtm and self.move[0] == \"w\":\n",
    "                if self.move == \"w-O-O\":\n",
    "                    coords = coordsks\n",
    "                else:\n",
    "                    coords = coordsqs\n",
    "                c1, c2, c3 ,c4 = coords\n",
    "                board[7][c1] = \"wK\"\n",
    "                board[7][c2] = \"wR\"\n",
    "                board[7][c3] = \"--\"\n",
    "                board[7][c4] = \"--\"\n",
    "            elif not wtm and self.move[0] == \"b\":\n",
    "                if self.move == \"b-O-O\":\n",
    "                    coords = coordsks\n",
    "                else:\n",
    "                    coords = coordsqs\n",
    "                c1, c2, c3, c4 = coords\n",
    "                board[0][c1] = \"bK\"\n",
    "                board[0][c2] = \"bR\"\n",
    "                board[0][c3] = \"--\"\n",
    "                board[0][c4] = \"--\"\n",
    "        else:\n",
    "            board[int(move[2])][int(move[3])] = board[int(move[0])][int(move[1])]\n",
    "            board[int(move[0])][int(move[1])] = \"--\""
   ]
  },
  {
   "cell_type": "markdown",
   "metadata": {},
   "source": [
    "Die makeMove-Funktion ist für die wirkliche Durchführung der Züge auf dem Spielbrett zuständig\n",
    "\n",
    "Sie wird durch die Rochade deutlich verklompliziert, weil es der einzige Zug im Spiel ist, bei dem 2 Züge durchgeführt werden müssen.\n",
    "\n",
    "Aber im Prinzip ist es nur:\n",
    "\n",
    "Figur von eigenen Koordinaten auf Zielkoordinaten setzten und anschließend die Anfangskoordinaten gleich \"--\" setzten."
   ]
  },
  {
   "cell_type": "code",
   "execution_count": null,
   "metadata": {},
   "outputs": [],
   "source": [
    "class EvaluatePosition():\n",
    "    def __init__(self, board, validmovesBlack, validmovesWhite, color):\n",
    "        self.board = board\n",
    "        self.vMB = validmovesBlack\n",
    "        self.vMW = validmovesWhite\n",
    "        self.w = 0\n",
    "        self.b = 0\n",
    "        self.color = color"
   ]
  },
  {
   "cell_type": "markdown",
   "metadata": {},
   "source": [
    "Die wohl wichtigste Klasse dieser KI ist, neben dem MiniMax selbst, Die EvaluatePosition Klasse. Diese ist dafür zuständig die aktuelle Position zu Bewerten."
   ]
  },
  {
   "cell_type": "code",
   "execution_count": null,
   "metadata": {},
   "outputs": [],
   "source": [
    " def getPieceValues(self):\n",
    "        pieceValues = {\"P\": 1, \"N\": 3, \"B\": 3, \"R\": 5, \"Q\": 9, \"K\": 0}\n",
    "        for j in range(8):\n",
    "            for i in self.board[j]:\n",
    "                if i != \"--\":\n",
    "                    if i[0] == \"w\":\n",
    "                        self.w += pieceValues[i[1]]\n",
    "                    else:\n",
    "                        self.b += pieceValues[i[1]]\n"
   ]
  },
  {
   "cell_type": "markdown",
   "metadata": {},
   "source": [
    "Die erste Bewertung sind die Figurenwerte.\n",
    "dafür gehen wir wieder durch jede Figur und addieren die jeweiligen Werte auf den gesamtwert"
   ]
  },
  {
   "cell_type": "code",
   "execution_count": null,
   "metadata": {},
   "outputs": [],
   "source": [
    "def pieceDevelopment(self):\n",
    "        self.w += round((len(self.vMW) * 0.01), 2)\n",
    "        self.b += round((len(self.vMB) * 0.01), 2)"
   ]
  },
  {
   "cell_type": "markdown",
   "metadata": {},
   "source": [
    "Hier bewerten wir die Entwicklung der Figuren\n",
    "\n",
    "Dies machen wir recht simpel, indem wir einfach die Anzahl an legalen Zügen mit 0.01 multiplizieren und auf 2 Nachkommastellen runden.\n",
    "\n",
    "die Multiplikation ist wichtig, da eine entwickelte Figur meist keine verlorene rechtfertigt."
   ]
  },
  {
   "cell_type": "code",
   "execution_count": null,
   "metadata": {},
   "outputs": [],
   "source": [
    "def kingSafety(self):\n",
    "        #Wieviele Bauern sind in der Nähe des Königs + wie weit ist der nächste Bauer auf der Königslinie vom König entfernt\n",
    "        kingpositionblack, kingpositionwhite = None, None\n",
    "        for j in range(8):\n",
    "            for i in self.board[j]:\n",
    "                if i[1] == \"K\":\n",
    "                    if i[0] == \"w\":\n",
    "                        kingpositionwhite = (j, self.board[j].index(\"wK\"))\n",
    "                    else:\n",
    "                        kingpositionblack = (j, self.board[j].index(\"bK\"))\n",
    "        whitePawn = []\n",
    "        blackPawn = []\n",
    "        wdkp =  bdkp = 8 #Distance from King to nearest Pawn on file\n",
    "        if kingpositionblack != None and kingpositionwhite != None:\n",
    "            for i in range(8):\n",
    "                if self.board[i][kingpositionwhite[0]] == \"wP\":\n",
    "                    whitePawn.append(i)\n",
    "                if self.board[i][kingpositionblack[0]] == \"bP\":\n",
    "                    blackPawn.append(i)\n",
    "            for i in whitePawn:\n",
    "                if abs(i - kingpositionwhite[1]) < wdkp:\n",
    "                    wdkp = abs(i - kingpositionwhite[0])\n",
    "            for i in blackPawn:\n",
    "                if abs(i - kingpositionblack[1]) < bdkp:\n",
    "                    bdkp = abs(i - kingpositionblack[0])\n",
    "\n",
    "            self.w += round(wdkp/100, 2)\n",
    "            self.b += round(bdkp/100, 2)\n",
    "            vars = [(1, 1), (1, 0), (1, -1), (0, 1), (0, -1), (-1,-1), (-1, 0), (-1, -1)]\n",
    "            kingpositions = [kingpositionwhite, kingpositionblack]\n",
    "            for j in range(2):\n",
    "                kingpos = kingpositions[j]\n",
    "                for i in range(8):\n",
    "                    var1, var2 = vars[i]\n",
    "                    if 8 > kingpos[0] + var1 > -1 and 8 > kingpos[1] + var2 > -1:\n",
    "                        debug = self.board[kingpos[0]+ var1][kingpos[1]+ var2]\n",
    "                        if self.board[kingpos[0]+ var1][kingpos[1]+ var2][1] == \"P\":\n",
    "                            if self.board[kingpos[0]+ var1][kingpos[1]+ var2][0] == \"w\":\n",
    "                                self.w += 0.01\n",
    "                            else:\n",
    "                                self.b += 0.01"
   ]
  },
  {
   "cell_type": "markdown",
   "metadata": {},
   "source": [
    "Eine weiteren Faktor um eine Stellung zu bewerten ist die Königssicherheit. Ich habe mich hier auf 2 Faktoren beschränkt:\n",
    "Jeder Bauer um den König gibt ihm Pluspunkte und je näher der Bauer derselben Spalte ist.\n",
    "\n",
    "Auch hier gibt es jeweils nur ein hundertstel Bauer als Pluspunkt"
   ]
  },
  {
   "cell_type": "code",
   "execution_count": null,
   "metadata": {},
   "outputs": [],
   "source": [
    "def centerControl(self):\n",
    "        centersquares1 = [\"33\", \"34\", \"43\", \"44\"]\n",
    "        centersquares2 = [\"23\", \"24\", \"53\", \"54\", \"32\", \"42\", \"35\", \"45\"]\n",
    "        lists = (self.vMW, self.vMB)\n",
    "        for y in range(2):\n",
    "            validmoves = lists[y]\n",
    "            for i in validmoves:\n",
    "                if i[1] != \"-\":\n",
    "                    vars = (i[-2:], i[:2])\n",
    "                    for x in range(2):\n",
    "                        j = vars[x]\n",
    "                        if j in centersquares1:\n",
    "                            if y == 0:\n",
    "                                self.w += 0.05\n",
    "                                round(self.w, 2)\n",
    "                            else:\n",
    "                                self.b += 0.05\n",
    "                                round(self.b, 2)\n",
    "                        if j in centersquares2:\n",
    "                            if y == 0:\n",
    "                                self.w += 0.01\n",
    "                                round(self.w, 2)\n",
    "                            else:\n",
    "                                self.b += 0.01\n",
    "                                round(self.b, 2)"
   ]
  },
  {
   "cell_type": "markdown",
   "metadata": {},
   "source": [
    "CenterControl ist im Schach eine der wichtigsten Dinge überhaupt.\n",
    "Deshalb gibt es 5 hundertstel Punkte für jede Figur im Center bzw. jeden Angriff auf das Center.\n",
    "\n",
    "Für das äußere Center gibt es wieder nur 1 hundertstel Bauer"
   ]
  },
  {
   "cell_type": "code",
   "execution_count": null,
   "metadata": {},
   "outputs": [],
   "source": [
    "def pawnStructure(self):\n",
    "        validmoves = (self.vMW, self.vMB)\n",
    "        vars = (1, -1)\n",
    "        for y in range(2):\n",
    "            vM = validmoves[y]\n",
    "            var = vars[y]\n",
    "            for i in vM:\n",
    "                if i[1] != \"-\":\n",
    "                    if self.board[int(i[0])][int(i[1])][1] == \"P\":\n",
    "                        if -1 < int(i[0]) + var < 8:\n",
    "                            if int(i[1]) +1 < 8:\n",
    "                                if self.board[int(i[0]) + var][int(i[1])+1] == self.board[int(i[0])][int(i[1])]:\n",
    "                                    if self.board[int(i[0])][int(i[1])][0] == \"w\":\n",
    "                                        self.w += 0.01\n",
    "                                    else:\n",
    "                                        self.b += 0.01\n",
    "                            if int(i[1]) -1 > -1:\n",
    "                                if self.board[int(i[0]) + var][int(i[1])-1] == self.board[int(i[0])][int(i[1])]:\n",
    "                                    if self.board[int(i[0])][int(i[1])][0] == \"w\":\n",
    "                                        self.w += 0.01\n",
    "                                    else:\n",
    "                                        self.b += 0.01"
   ]
  },
  {
   "cell_type": "markdown",
   "metadata": {},
   "source": [
    "Der letzte wichtige Punkt sind die Pawn-Structers.\n",
    "\n",
    "Da diese schwer zu bewerten sind, habe ich es stark vereinfacht und gesagt, dass es für jeden Bauern, der einen anderen Bauern deckt, einen hundertstel Bauern als Pluspunkt gibt\n"
   ]
  },
  {
   "cell_type": "code",
   "execution_count": null,
   "metadata": {},
   "outputs": [],
   "source": [
    "def evalPosition(self):\n",
    "        self.getPieceValues()\n",
    "        self.pieceDevelopment()\n",
    "        self.kingSafety()\n",
    "        self.centerControl()\n",
    "        self.pawnStructure()\n",
    "        if self.color == \"w\":\n",
    "            return self.w - self.b\n",
    "        else:\n",
    "            return self.b - self.w\n"
   ]
  },
  {
   "cell_type": "markdown",
   "metadata": {},
   "source": [
    "Diese Funktion führt alle einzelnen Aspekte aus und verechnet sie anschließend. Für den MiniMax Algorithmus ist es wichtig, dass die AI versucht den Wert zu maximieren, deshalb wird die Reihenfolge, welcher Wert von welchem abgezogen wird, hier angepasst."
   ]
  },
  {
   "cell_type": "code",
   "execution_count": null,
   "metadata": {},
   "outputs": [],
   "source": [
    "class MiniMax():\n",
    "    def __init__(self, board, wtm, movelog):\n",
    "        self.copyboard = copy.deepcopy(board)\n",
    "        self.whiteToMove = wtm\n",
    "        self.max_color = \"b\"\n",
    "        self.color = False\n",
    "        if self.whiteToMove:\n",
    "            self.max_color = \"w\"\n",
    "            self.color = True        #False == black, True == white\n",
    "        self.targetDepth = 2\n",
    "        self.movecopy = movelog.copy()\n"
   ]
  },
  {
   "cell_type": "markdown",
   "metadata": {},
   "source": [
    "Die wohl interessanteste Klasse in diesem Projekt ist aber diese implementierung des MiniMax Algorithmus mit Alpha-Beta Pruning\n",
    "\n",
    "in der Init-Funktion werden ausschließlich ein paar Variablen definiert."
   ]
  },
  {
   "cell_type": "code",
   "execution_count": null,
   "metadata": {},
   "outputs": [],
   "source": [
    "def CheckGameEndings(self):\n",
    "        if CheckSpecialPositions.checkMate(CheckSpecialPositions(), self.copyboard, self.whiteToMove, self.movecopy) == True:\n",
    "            if self.color == self.whiteToMove:\n",
    "                return -1\n",
    "            else:\n",
    "                return 1\n",
    "        elif CheckSpecialPositions.checkStalemate(CheckSpecialPositions(), self.copyboard, self.whiteToMove, self.movecopy):\n",
    "            return 0"
   ]
  },
  {
   "cell_type": "markdown",
   "metadata": {},
   "source": [
    "Die CheckgamesEndings ist eine für die Minimax-Funktion angepasste Version der CheckSpecialposition-Klasse.\n",
    "\n",
    "Sie gibt die besonderen Personen durch bestimmte Werte zurück"
   ]
  },
  {
   "cell_type": "code",
   "execution_count": null,
   "metadata": {},
   "outputs": [],
   "source": [
    "def minimax(self, currentdepth, max_player, alpha, beta):\n",
    "        gameend = self.CheckGameEndings()\n",
    "        if gameend == -1:\n",
    "            return None, -150\n",
    "        elif gameend == 1:\n",
    "            return None, 150\n",
    "        elif gameend == 0:\n",
    "            return None, 0\n",
    "        if currentdepth == self.targetDepth:\n",
    "            ev = EvaluatePosition(self.copyboard, ValidMoves.getValidMoves(ValidMoves(), self.copyboard, False, self.movecopy), ValidMoves.getValidMoves(ValidMoves(), self.copyboard, True, self.movecopy), self.max_color)\n",
    "            return None, ev.evalPosition()\n",
    "        vm = ValidMoves.getValidMoves(ValidMoves(), self.copyboard, self.whiteToMove, self.movecopy)\n",
    "        if CheckSpecialPositions.checkCheck(CheckSpecialPositions(), self.copyboard, self.whiteToMove, self.movecopy):\n",
    "                    if not CheckSpecialPositions.checkMate(CheckSpecialPositions(), self.copyboard, self.whiteToMove, self.movecopy):\n",
    "                        self.validMoves = CheckSpecialPositions.checkMate(CheckSpecialPositions(), self.copyboard, self.whiteToMove, self.movecopy)\n",
    "                    else:\n",
    "                        self.validMoves = []\n",
    "        best_move = None\n",
    "\n",
    "        if max_player:\n",
    "            max_pos = -200\n",
    "            for i in vm:\n",
    "                undoBoard = copy.deepcopy(self.copyboard)\n",
    "                Move.makeMove(Move(i), self.copyboard, self.whiteToMove, i)\n",
    "                self.movecopy.append(i)\n",
    "                self.whiteToMove = not self.whiteToMove\n",
    "                current_pos = self.minimax(currentdepth + 1, False, alpha, beta)[1]\n",
    "                if current_pos > max_pos:\n",
    "                    max_pos = current_pos\n",
    "                    best_move = i\n",
    "                self.copyboard = undoBoard\n",
    "                self.whiteToMove = not self.whiteToMove\n",
    "                self.movecopy.pop(-1)\n",
    "                alpha = max(alpha, current_pos)\n",
    "                if beta <= alpha:\n",
    "                    break\n",
    "            return best_move, max_pos\n",
    "\n",
    "        else:\n",
    "            min_pos = 200\n",
    "            vm.sort(reverse = True)\n",
    "            for i in vm:\n",
    "                undoBoard = copy.deepcopy(self.copyboard)\n",
    "                Move.makeMove(Move(i), self.copyboard, self.whiteToMove, i)\n",
    "                self.movecopy.append(i)\n",
    "                self.whiteToMove = not self.whiteToMove\n",
    "                current_pos = self.minimax(currentdepth + 1, True, alpha, beta)[1]\n",
    "                if current_pos < min_pos:\n",
    "                    min_pos = current_pos\n",
    "                    best_move = i\n",
    "                self.copyboard = undoBoard\n",
    "                self.whiteToMove = not self.whiteToMove\n",
    "                self.movecopy.pop(-1)\n",
    "                beta = min(beta, current_pos)\n",
    "                if beta <= alpha:\n",
    "                    break\n",
    "            return best_move, min_pos"
   ]
  },
  {
   "cell_type": "markdown",
   "metadata": {},
   "source": [
    "Und zu guter letzt, das Herzstück der KI, der MiniMax Algorithmus.\n",
    "\n",
    "\n",
    "Zuerst überprüfen wir die möglichen Spielenden\n",
    "\n",
    "Überprüfen, ob wir unsere Zieltiefe erreicht haben\n",
    "\n",
    "Generierern aller legalen Züge.\n",
    "\n",
    "\n",
    "Und anschließend der MiniMax Algorithmus mit dem max_player und dem min_player mit alpha-beta pruning\n"
   ]
  },
  {
   "cell_type": "markdown",
   "metadata": {},
   "source": [
    "<h1> Resolution </h1>"
   ]
  },
  {
   "cell_type": "markdown",
   "metadata": {},
   "source": [
    "Es hat mir wirklich sehr viel Spaß gemacht den MiniMax Algorithmus in einer komplexen Anwendung wie Schach anzuwenden.\n",
    "\n",
    "Ich habe viel dazu gelernt. \n",
    "\n",
    "Mir war natürlich jederzeit bewusst, dass meine KI nicht gut sein wird, dafür wäre Python auch die falsche Programmiersprache gewesen. Aber darum ging es mir auch nie. Ich wollte den Algorithmus in einer spannenden Art und Weise kennenlernen und auch wenn ich zugeben muss, dass er, weil er so super langsam ist (und das bei einer Tiefe von nur 2) kaum möglich ist gegen ihn zu spielen.\n",
    "\n",
    "Ich habe natürlich trotzdem das ein oder andere Testspiel durchgeführt und mein Algorithmus hat sich nicht allzu schlecht geschlagen (ist natürlich trotzdem noch weit weg von gut, zumindest mit einer Tiefe von 2).\n",
    "Er erkennt einfache Matt-Muster und schlägt relativ Problemlos Stockfisch Stufe 1 (schwächste Version, der Stärksten Open-Source Schach-KI. Elo von ca. 800. Die stärkste Version ist bei ca. 3500)."
   ]
  }
 ],
 "metadata": {
  "kernelspec": {
   "display_name": "Python 3",
   "language": "python",
   "name": "python3"
  },
  "language_info": {
   "codemirror_mode": {
    "name": "ipython",
    "version": 3
   },
   "file_extension": ".py",
   "mimetype": "text/x-python",
   "name": "python",
   "nbconvert_exporter": "python",
   "pygments_lexer": "ipython3",
   "version": "3.7.0"
  }
 },
 "nbformat": 4,
 "nbformat_minor": 2
}
